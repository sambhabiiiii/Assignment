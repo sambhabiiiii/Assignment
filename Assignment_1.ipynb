{
  "nbformat": 4,
  "nbformat_minor": 0,
  "metadata": {
    "colab": {
      "provenance": []
    },
    "kernelspec": {
      "name": "python3",
      "display_name": "Python 3"
    },
    "language_info": {
      "name": "python"
    }
  },
  "cells": [
    {
      "cell_type": "code",
      "execution_count": null,
      "metadata": {
        "colab": {
          "base_uri": "https://localhost:8080/"
        },
        "id": "0vtQbfvuzNaR",
        "outputId": "9255d278-7fcd-4f1e-c487-65475db2cb08"
      },
      "outputs": [
        {
          "output_type": "stream",
          "name": "stdout",
          "text": [
            "a. Fuel needed: 41.30 liters\n",
            "b. Full tanks needed: 0.0 full tank(s)\n",
            "c. Total fuel cost: $68.15\n",
            "d. Fuel remaining: 8.70 liters\n"
          ]
        }
      ],
      "source": [
        "# Section 1\n",
        "# 1. Road Trip Planner\n",
        "\n",
        "# Given data\n",
        "fuel_efficiency = 11.5       # kilometers per liter\n",
        "total_distance = 475         # kilometers\n",
        "fuel_price = 1.65            # dollars per liter\n",
        "tank_capacity = 50           # liters\n",
        "\n",
        "# a. Calculate fuel needed\n",
        "fuel_needed = total_distance / fuel_efficiency\n",
        "print(f\"a. Fuel needed: {fuel_needed:.2f} liters\")\n",
        "\n",
        "# b. Full tanks required (floor division)\n",
        "full_tanks_needed = fuel_needed // tank_capacity\n",
        "print(f\"b. Full tanks needed: {full_tanks_needed} full tank(s)\")\n",
        "\n",
        "# c. Total fuel cost\n",
        "fuel_cost = fuel_needed * fuel_price\n",
        "print(f\"c. Total fuel cost: ${fuel_cost:.2f}\")\n",
        "\n",
        "# d. Fuel remaining after the trip\n",
        "fuel_remaining = tank_capacity - fuel_needed\n",
        "print(f\"d. Fuel remaining: {fuel_remaining:.2f} liters\")\n",
        "\n",
        "\n"
      ]
    },
    {
      "cell_type": "code",
      "source": [
        "#Section 2"
      ],
      "metadata": {
        "id": "BKgt1i4UHA7M"
      },
      "execution_count": null,
      "outputs": []
    },
    {
      "cell_type": "code",
      "source": [
        "# Part a: Theme Park Entry Rules\n",
        "\n",
        "# Initial values\n",
        "age = 30\n",
        "is_weekday = True\n",
        "is_family_day = False\n",
        "group_size = 3\n",
        "\n",
        "# Boolean expression for discount eligibility\n",
        "gets_discount = ((age <= 12 and is_weekday) or\n",
        "                 (age >= 65) or\n",
        "                 (is_family_day and group_size >= 4))\n",
        "\n",
        "print(f\"Part a result (age=30): {gets_discount}\")\n",
        "\n",
        "# Part b: Update the variables\n",
        "age = 10\n",
        "is_weekday = True\n",
        "is_family_day = False\n",
        "group_size = 2\n",
        "\n",
        "# Re-evaluate the expression with new values\n",
        "gets_discount = ((age <= 12 and is_weekday) or\n",
        "                 (age >= 65) or\n",
        "                 (is_family_day and group_size >= 4))\n",
        "\n",
        "print(f\"Part b result (age=10): {gets_discount}\")\n",
        "\n",
        "# Part c: Explanation of Boolean Expression Evaluation\n",
        "\n",
        "# Updated values for Part b\n",
        "age = 10\n",
        "is_weekday = True\n",
        "is_family_day = False\n",
        "group_size = 2\n",
        "\n",
        "# Boolean expression for discount eligibility\n",
        "gets_discount = ((age <= 12 and is_weekday) or\n",
        "                 (age >= 65) or\n",
        "                 (is_family_day and group_size >= 4))\n",
        "\n",
        "# Print out the evaluation result\n",
        "print(f\"Part c result (age=10, weekday=True): {gets_discount}\")\n",
        "\n"
      ],
      "metadata": {
        "colab": {
          "base_uri": "https://localhost:8080/"
        },
        "id": "9Ti_5Kn6zRQ3",
        "outputId": "5d5edd89-7b72-4612-baf7-e3ad316f5d5d"
      },
      "execution_count": null,
      "outputs": [
        {
          "output_type": "stream",
          "name": "stdout",
          "text": [
            "Part a result (age=30): False\n",
            "Part b result (age=10): True\n",
            "Part c result (age=10, weekday=True): True\n"
          ]
        }
      ]
    },
    {
      "cell_type": "code",
      "source": [
        "#Section 3"
      ],
      "metadata": {
        "id": "LetgaYOWGrwC"
      },
      "execution_count": null,
      "outputs": []
    },
    {
      "cell_type": "code",
      "source": [
        "# Given secret message\n",
        "secret_message = \"PyThoN_Is_FuN_AnD_PoWeRfUl!\"\n",
        "\n",
        "# Part a: Character at index 5\n",
        "char_at_index_5 = secret_message[5]\n",
        "print(f\"a. Character at index 5: {char_at_index_5}\")\n",
        "\n",
        "# Part b: Substring \"Is_FuN\" using positive indexing\n",
        "substring_b = secret_message[7:13]\n",
        "print(f\"b. Substring 'Is_FuN' using positive indexing: {substring_b}\")\n",
        "\n",
        "# Part c: Substring \"PoWeRfUl\" using negative indexing\n",
        "substring_c = secret_message[-9:-1]\n",
        "print(f\"c. Substring 'PoWeRfUl' using negative indexing: {substring_c}\")\n",
        "\n",
        "# Part d: Every 4th character starting from index 0\n",
        "substring_d = secret_message[::4]\n",
        "print(f\"d. Every 4th character: {substring_d}\")\n",
        "\n",
        "# Part e: Accessing secret_message[50]\n",
        "try:\n",
        "    char_at_index_50 = secret_message[50]\n",
        "except IndexError as e:\n",
        "    char_at_index_50 = \"Index out of range\"\n",
        "\n",
        "print(f\"e. Attempt to access secret_message[50]: {char_at_index_50}\")\n"
      ],
      "metadata": {
        "colab": {
          "base_uri": "https://localhost:8080/"
        },
        "id": "JZF8I3KD1o4L",
        "outputId": "13140256-1e05-43f2-eaca-b22266724b0e"
      },
      "execution_count": 2,
      "outputs": [
        {
          "output_type": "stream",
          "name": "stdout",
          "text": [
            "a. Character at index 5: N\n",
            "b. Substring 'Is_FuN' using positive indexing: Is_FuN\n",
            "c. Substring 'PoWeRfUl' using negative indexing: PoWeRfUl\n",
            "d. Every 4th character: PosNDWU\n",
            "e. Attempt to access secret_message[50]: Index out of range\n"
          ]
        }
      ]
    },
    {
      "cell_type": "code",
      "source": [
        "#Section 4"
      ],
      "metadata": {
        "id": "1WUbl1oTHEyM"
      },
      "execution_count": null,
      "outputs": []
    },
    {
      "cell_type": "code",
      "source": [
        "# Given variables\n",
        "x = 15\n",
        "y = 25\n",
        "z = 15\n",
        "text = \"adventure\"\n",
        "\n",
        "# a. (x == z) and (y > x)\n",
        "expression_a = (x == z) and (y > x)\n",
        "print(f\"a. (x == z) and (y > x): {expression_a}\")\n",
        "\n",
        "# b. (x != z) or (y < x) or (len(text) < 5)\n",
        "expression_b = (x != z) or (y < x) or (len(text) < 5)\n",
        "print(f\"b. (x != z) or (y < x) or (len(text) < 5): {expression_b}\")\n",
        "\n",
        "# c. not ((x > y) and (text == 'Adventure'))\n",
        "expression_c = not ((x > y) and (text == \"Adventure\"))\n",
        "print(f\"c. not ((x > y) and (text == 'Adventure')): {expression_c}\")\n"
      ],
      "metadata": {
        "colab": {
          "base_uri": "https://localhost:8080/"
        },
        "id": "npw97Mgh2WSO",
        "outputId": "150cf0de-60bb-45c3-8baf-ec499ed0d8b4"
      },
      "execution_count": null,
      "outputs": [
        {
          "output_type": "stream",
          "name": "stdout",
          "text": [
            "a. (x == z) and (y > x): True\n",
            "b. (x != z) or (y < x) or (len(text) < 5): False\n",
            "c. not ((x > y) and (text == 'Adventure')): True\n"
          ]
        }
      ]
    },
    {
      "cell_type": "code",
      "source": [
        "Section 5"
      ],
      "metadata": {
        "id": "fQcdqDogHHH7"
      },
      "execution_count": null,
      "outputs": []
    },
    {
      "cell_type": "code",
      "source": [
        "# Part a: Trying to change the first letter of the username (error explanation)\n",
        "try:\n",
        "    username = \"MyUser123\"\n",
        "    username[0] = 'm'  # This will raise an error since strings are immutable\n",
        "except TypeError as e:\n",
        "    print(f\"Error: {e}\")\n",
        "\n",
        "# Part b: Transformations on the user's favorite quote\n",
        "quote = \" practice makes perfect \"\n",
        "\n",
        "# 1. Remove any leading or trailing whitespace\n",
        "quote = quote.strip()\n",
        "\n",
        "# 2. Convert the entire quote to uppercase\n",
        "quote = quote.upper()\n",
        "\n",
        "# 3. Replace the word \"PERFECT\" with \"PROGRESS\"\n",
        "formatted_quote = quote.replace(\"PERFECT\", \"PROGRESS\")\n",
        "\n",
        "print(f\"Formatted Quote: {formatted_quote}\")\n",
        "\n",
        "# Part c: Length of the original and formatted quotes\n",
        "original_length = len(\" practice makes perfect \")\n",
        "formatted_length = len(formatted_quote)\n",
        "\n",
        "print(f\"Length of original quote: {original_length}\")\n",
        "print(f\"Length of formatted quote: {formatted_length}\")\n"
      ],
      "metadata": {
        "colab": {
          "base_uri": "https://localhost:8080/"
        },
        "id": "mt3vxGfa2ptZ",
        "outputId": "a026145d-2b78-4a33-8430-0340e4814b34"
      },
      "execution_count": 3,
      "outputs": [
        {
          "output_type": "stream",
          "name": "stdout",
          "text": [
            "Error: 'str' object does not support item assignment\n",
            "Formatted Quote: PRACTICE MAKES PROGRESS\n",
            "Length of original quote: 24\n",
            "Length of formatted quote: 23\n"
          ]
        }
      ]
    }
  ]
}